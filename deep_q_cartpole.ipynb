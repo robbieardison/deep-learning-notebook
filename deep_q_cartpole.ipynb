{
  "cells": [
    {
      "cell_type": "code",
      "execution_count": 4,
      "metadata": {
        "id": "M9T2iG2cwH7F"
      },
      "outputs": [],
      "source": [
        "import gym\n",
        "import numpy as np\n",
        "import random\n",
        "import torch\n",
        "import torch.nn as nn\n",
        "import torch.optim as optim\n",
        "import collections\n",
        "import matplotlib.pyplot as plt"
      ]
    },
    {
      "cell_type": "code",
      "execution_count": null,
      "metadata": {
        "colab": {
          "base_uri": "https://localhost:8080/"
        },
        "id": "fY168fjjwLRR",
        "outputId": "572cf089-9d46-499f-9e15-3c930f6742e3"
      },
      "outputs": [
        {
          "name": "stdout",
          "output_type": "stream",
          "text": [
            "Using device: cpu\n"
          ]
        }
      ],
      "source": [
        "device = torch.device(\"cuda\" if torch.cuda.is_available() else \"cpu\")\n",
        "print(f\"Using device: {device}\")\n",
        "\n",
        "# Create CartPole environment\n",
        "env = gym.make(\"CartPole-v1\")"
      ]
    },
    {
      "cell_type": "code",
      "execution_count": 6,
      "metadata": {
        "id": "bg73J-1klKwN"
      },
      "outputs": [],
      "source": [
        "# Define DQN model\n",
        "class DQN(nn.Module):\n",
        "    def __init__(self, input_dim, output_dim):\n",
        "        super(DQN, self).__init__()\n",
        "        self.fc = nn.Sequential(\n",
        "            nn.Linear(input_dim, 128),\n",
        "            nn.ReLU(),\n",
        "            nn.Linear(128, 128),\n",
        "            nn.ReLU(),\n",
        "            nn.Linear(128, output_dim)\n",
        "        )\n",
        "\n",
        "    def forward(self, x):\n",
        "        return self.fc(x)"
      ]
    },
    {
      "cell_type": "code",
      "execution_count": 7,
      "metadata": {
        "id": "yEmJt1U6lN7l"
      },
      "outputs": [],
      "source": [
        "# Define Replay Buffer\n",
        "class ReplayBuffer:\n",
        "    def __init__(self, capacity):\n",
        "        self.buffer = collections.deque(maxlen=capacity)\n",
        "\n",
        "    def push(self, state, action, reward, next_state, done):\n",
        "        self.buffer.append((state, action, reward, next_state, done))\n",
        "\n",
        "    def sample(self, batch_size):\n",
        "        batch = random.sample(self.buffer, batch_size)\n",
        "        states, actions, rewards, next_states, dones = zip(*batch)\n",
        "        return (np.array(states, dtype=np.float32),\n",
        "                np.array(actions, dtype=np.int64),\n",
        "                np.array(rewards, dtype=np.float32),\n",
        "                np.array(next_states, dtype=np.float32),\n",
        "                np.array(dones, dtype=np.bool_))\n",
        "\n",
        "    def __len__(self):\n",
        "        return len(self.buffer)"
      ]
    },
    {
      "cell_type": "code",
      "execution_count": 8,
      "metadata": {
        "id": "kqA7FY-WwVnl"
      },
      "outputs": [],
      "source": [
        "# Train function\n",
        "def train(env, num_episodes=1500):\n",
        "    input_dim = env.observation_space.shape[0]\n",
        "    output_dim = env.action_space.n\n",
        "    model = DQN(input_dim, output_dim).to(device)\n",
        "    target_model = DQN(input_dim, output_dim).to(device)\n",
        "    target_model.load_state_dict(model.state_dict())\n",
        "    optimizer = optim.Adam(model.parameters(), lr=0.0001)\n",
        "    buffer = ReplayBuffer(100000)\n",
        "    gamma = 0.99\n",
        "    epsilon = 1.0\n",
        "    epsilon_min = 0.01\n",
        "    epsilon_decay = 0.995\n",
        "    batch_size = 64\n",
        "    update_target_every = 10\n",
        "    rewards_list = []\n",
        "\n",
        "    for episode in range(num_episodes):\n",
        "        state, _ = env.reset()\n",
        "        total_reward = 0\n",
        "        done = False\n",
        "\n",
        "        while not done:\n",
        "            if random.random() < epsilon:\n",
        "                action = env.action_space.sample()\n",
        "            else:\n",
        "                with torch.no_grad():\n",
        "                    state_tensor = torch.FloatTensor(state).unsqueeze(0).to(device)\n",
        "                    action = torch.argmax(model(state_tensor)).item()\n",
        "\n",
        "            next_state, reward, terminated, truncated, _ = env.step(action)\n",
        "            done = terminated or truncated\n",
        "            buffer.push(state, action, reward, next_state, done)\n",
        "            state = next_state\n",
        "            total_reward += reward\n",
        "\n",
        "            if len(buffer) > batch_size:\n",
        "                states, actions, rewards, next_states, dones = buffer.sample(batch_size)\n",
        "                states = torch.FloatTensor(states).to(device)\n",
        "                actions = torch.LongTensor(actions).unsqueeze(1).to(device)\n",
        "                rewards = torch.FloatTensor(rewards).to(device)\n",
        "                next_states = torch.FloatTensor(next_states).to(device)\n",
        "                dones = torch.BoolTensor(dones).to(device)\n",
        "\n",
        "                q_values = model(states).gather(1, actions).squeeze()\n",
        "                next_q_values = target_model(next_states).max(1)[0]\n",
        "                target_q_values = rewards + gamma * next_q_values * (~dones)\n",
        "                #loss = nn.MSELoss()(q_values, target_q_values)\n",
        "                loss = nn.SmoothL1Loss()(q_values, target_q_values)\n",
        "\n",
        "                optimizer.zero_grad()\n",
        "                loss.backward()\n",
        "                optimizer.step()\n",
        "\n",
        "        if epsilon > epsilon_min:\n",
        "            epsilon *= epsilon_decay\n",
        "        if episode < 500:\n",
        "            epsilon *= epsilon_decay\n",
        "        elif episode < 1000:\n",
        "            epsilon *= 0.999  # Slower decay\n",
        "        else:\n",
        "            epsilon = max(0.05, epsilon)  # Keep a minimum exploration\n",
        "\n",
        "\n",
        "        rewards_list.append(total_reward)\n",
        "\n",
        "        if episode % update_target_every == 0:\n",
        "            target_model.load_state_dict(model.state_dict())\n",
        "\n",
        "        if episode % 50 == 0:\n",
        "            print(f\"Episode {episode}, Reward: {total_reward}, Epsilon: {epsilon:.3f}\")\n",
        "\n",
        "    return model, rewards_list"
      ]
    },
    {
      "cell_type": "code",
      "execution_count": 9,
      "metadata": {
        "colab": {
          "base_uri": "https://localhost:8080/",
          "height": 1000
        },
        "id": "0ZzGnTC6waud",
        "outputId": "1fde8810-5469-42b9-aedd-2594416e51b6"
      },
      "outputs": [
        {
          "name": "stderr",
          "output_type": "stream",
          "text": [
            "/Users/robbieardison/anaconda3/envs/tf-pro/lib/python3.11/site-packages/gym/utils/passive_env_checker.py:233: DeprecationWarning: `np.bool8` is a deprecated alias for `np.bool_`.  (Deprecated NumPy 1.24)\n",
            "  if not isinstance(terminated, (bool, np.bool8)):\n"
          ]
        },
        {
          "name": "stdout",
          "output_type": "stream",
          "text": [
            "Episode 0, Reward: 19.0, Epsilon: 0.990\n",
            "Episode 50, Reward: 12.0, Epsilon: 0.600\n",
            "Episode 100, Reward: 13.0, Epsilon: 0.363\n",
            "Episode 150, Reward: 10.0, Epsilon: 0.220\n",
            "Episode 200, Reward: 10.0, Epsilon: 0.133\n",
            "Episode 250, Reward: 11.0, Epsilon: 0.081\n",
            "Episode 300, Reward: 34.0, Epsilon: 0.049\n",
            "Episode 350, Reward: 69.0, Epsilon: 0.030\n",
            "Episode 400, Reward: 55.0, Epsilon: 0.018\n",
            "Episode 450, Reward: 65.0, Epsilon: 0.011\n",
            "Episode 500, Reward: 117.0, Epsilon: 0.008\n",
            "Episode 550, Reward: 100.0, Epsilon: 0.008\n",
            "Episode 600, Reward: 100.0, Epsilon: 0.007\n",
            "Episode 650, Reward: 105.0, Epsilon: 0.007\n",
            "Episode 700, Reward: 128.0, Epsilon: 0.007\n",
            "Episode 750, Reward: 85.0, Epsilon: 0.006\n",
            "Episode 800, Reward: 105.0, Epsilon: 0.006\n",
            "Episode 850, Reward: 112.0, Epsilon: 0.006\n",
            "Episode 900, Reward: 126.0, Epsilon: 0.005\n",
            "Episode 950, Reward: 111.0, Epsilon: 0.005\n",
            "Episode 1000, Reward: 178.0, Epsilon: 0.050\n",
            "Episode 1050, Reward: 148.0, Epsilon: 0.050\n",
            "Episode 1100, Reward: 145.0, Epsilon: 0.050\n",
            "Episode 1150, Reward: 139.0, Epsilon: 0.050\n",
            "Episode 1200, Reward: 123.0, Epsilon: 0.050\n",
            "Episode 1250, Reward: 142.0, Epsilon: 0.050\n",
            "Episode 1300, Reward: 181.0, Epsilon: 0.050\n",
            "Episode 1350, Reward: 335.0, Epsilon: 0.050\n",
            "Episode 1400, Reward: 454.0, Epsilon: 0.050\n",
            "Episode 1450, Reward: 500.0, Epsilon: 0.050\n"
          ]
        },
        {
          "data": {
            "image/png": "[encoded data removed]",
            "text/plain": [
              "<Figure size 640x480 with 1 Axes>"
            ]
          },
          "metadata": {},
          "output_type": "display_data"
        },
        {
          "name": "stdout",
          "output_type": "stream",
          "text": [
            "Model saved as dqn_cartpole.pth\n"
          ]
        }
      ],
      "source": [
        "# Train the agent\n",
        "model, rewards = train(env)\n",
        "\n",
        "# Plot results\n",
        "plt.plot(rewards)\n",
        "plt.xlabel(\"Episode\")\n",
        "plt.ylabel(\"Total Reward\")\n",
        "plt.title(\"DQN on CartPole\")\n",
        "plt.show()\n",
        "\n",
        "# Save the model\n",
        "torch.save(model.state_dict(), \"dqn_cartpole.pth\")\n",
        "print(\"Model saved as dqn_cartpole.pth\")"
      ]
    },
    {
      "cell_type": "code",
      "execution_count": 14,
      "metadata": {
        "colab": {
          "base_uri": "https://localhost:8080/",
          "height": 423
        },
        "id": "fUQQLhIpLuL8",
        "outputId": "9fdb7c58-bdc5-43f5-d5a9-a0ff5fba6453"
      },
      "outputs": [],
      "source": [
        "import gym\n",
        "\n",
        "env = gym.make(\"CartPole-v1\", render_mode=\"human\")\n",
        "\n",
        "state = env.reset()\n",
        "done = False\n",
        "\n",
        "while not done:\n",
        "    env.render()\n",
        "    \n",
        "    action = env.action_space.sample()  # Replace with your model's action if needed\n",
        "    \n",
        "    step_result = env.step(action)\n",
        "\n",
        "    if len(step_result) == 5:\n",
        "        next_state, reward, terminated, truncated, info = step_result\n",
        "        done = terminated or truncated\n",
        "    else:\n",
        "        next_state, reward, done, info = step_result  # Older Gym versions\n",
        "\n",
        "    state = next_state\n",
        "\n",
        "env.close()\n"
      ]
    },
    {
      "cell_type": "code",
      "execution_count": 1,
      "metadata": {
        "colab": {
          "base_uri": "https://localhost:8080/",
          "height": 418
        },
        "id": "WlhFPkrAZXhj",
        "outputId": "fe12ab31-8636-43d1-c385-d36a438bf029"
      },
      "outputs": [
        {
          "ename": "NameError",
          "evalue": "name 'gym' is not defined",
          "output_type": "error",
          "traceback": [
            "\u001b[0;31m---------------------------------------------------------------------------\u001b[0m",
            "\u001b[0;31mNameError\u001b[0m                                 Traceback (most recent call last)",
            "Cell \u001b[0;32mIn[1], line 1\u001b[0m\n\u001b[0;32m----> 1\u001b[0m env \u001b[38;5;241m=\u001b[39m gym\u001b[38;5;241m.\u001b[39mmake(\u001b[38;5;124m\"\u001b[39m\u001b[38;5;124mLunarLander-v2\u001b[39m\u001b[38;5;124m\"\u001b[39m)\n\u001b[1;32m      2\u001b[0m state \u001b[38;5;241m=\u001b[39m env\u001b[38;5;241m.\u001b[39mreset()\n\u001b[1;32m      3\u001b[0m done \u001b[38;5;241m=\u001b[39m \u001b[38;5;28;01mFalse\u001b[39;00m\n",
            "\u001b[0;31mNameError\u001b[0m: name 'gym' is not defined"
          ]
        }
      ],
      "source": [
        "env = gym.make(\"LunarLander-v2\")\n",
        "state = env.reset()\n",
        "done = False\n",
        "\n",
        "while not done:\n",
        "    env.render()\n",
        "    state_tensor = torch.tensor(state, dtype=torch.float32).unsqueeze(0)\n",
        "    action = model(state_tensor).argmax().item()\n",
        "    state, reward, done, _ = env.step(action)\n",
        "\n",
        "env.close()"
      ]
    },
    {
      "cell_type": "code",
      "execution_count": null,
      "metadata": {
        "id": "laJGtOCqzIz8"
      },
      "outputs": [],
      "source": []
    }
  ],
  "metadata": {
    "colab": {
      "provenance": []
    },
    "kernelspec": {
      "display_name": "tf-pro",
      "language": "python",
      "name": "python3"
    },
    "language_info": {
      "codemirror_mode": {
        "name": "ipython",
        "version": 3
      },
      "file_extension": ".py",
      "mimetype": "text/x-python",
      "name": "python",
      "nbconvert_exporter": "python",
      "pygments_lexer": "ipython3",
      "version": "3.11.10"
    }
  },
  "nbformat": 4,
  "nbformat_minor": 0
}
